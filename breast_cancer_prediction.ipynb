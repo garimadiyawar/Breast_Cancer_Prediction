{
  "cells": [
    {
      "cell_type": "markdown",
      "source": [
        "# 🩺 Breast Cancer Prediction Using Machine Learning\n",
        "\n",
        "## Objective\n",
        "\n",
        "This project aims to build a predictive machine learning model that classifies breast tumors as **benign** or **malignant** using the **Breast Cancer Wisconsin (Diagnostic)** dataset."
      ],
      "metadata": {
        "id": "9-9E9Z75ZsIA"
      }
    },
    {
      "cell_type": "markdown",
      "source": [
        "🛠️ Libraries and Setup\n",
        "\n",
        "We begin by importing the required Python libraries for:\n",
        "- Data processing: `pandas`, `numpy`\n",
        "- Visualization: `seaborn`, `matplotlib`\n",
        "- Modeling: `sklearn` (Logistic Regression, Random Forest, etc.)\n",
        "- Model persistence: `joblib`\n",
        "\n",
        "We also install `ucimlrepo` to access the UCI dataset easily."
      ],
      "metadata": {
        "id": "OmvxBIO2bvO6"
      }
    },
    {
      "cell_type": "code",
      "execution_count": 1,
      "metadata": {
        "id": "glm8hPVr-dgo"
      },
      "outputs": [],
      "source": [
        "import pandas as pd\n",
        "import numpy as np\n",
        "import seaborn as sns\n",
        "import matplotlib.pyplot as plt\n",
        "from sklearn.model_selection import train_test_split, GridSearchCV\n",
        "from sklearn.preprocessing import LabelEncoder, StandardScaler\n",
        "from sklearn.linear_model import LogisticRegression\n",
        "from sklearn.ensemble import RandomForestClassifier\n",
        "from sklearn.metrics import accuracy_score, confusion_matrix, classification_report\n",
        "import joblib"
      ]
    },
    {
      "cell_type": "markdown",
      "source": [
        "## Dataset Source\n",
        "\n",
        "We use the dataset provided by the **UCI Machine Learning Repository**, fetched via `ucimlrepo`. It contains features computed from digitized images of a fine needle aspirate (FNA) of a breast mass.\n",
        "\n",
        "- **Features:** 30 numeric measurements describing tumor characteristics (e.g., radius, texture, area).\n",
        "- **Target Variable:**\n",
        "  - **M (Malignant)** → encoded as 0  \n",
        "  - **B (Benign)** → encoded as 1"
      ],
      "metadata": {
        "id": "zeVnZ_wdaV0S"
      }
    },
    {
      "cell_type": "code",
      "source": [
        "!pip install ucimlrepo"
      ],
      "metadata": {
        "colab": {
          "base_uri": "https://localhost:8080/"
        },
        "id": "qnHl4GWl-3PM",
        "outputId": "c934ba08-0675-4a71-bf95-c46b31be723b"
      },
      "execution_count": 4,
      "outputs": [
        {
          "output_type": "stream",
          "name": "stdout",
          "text": [
            "Requirement already satisfied: ucimlrepo in /usr/local/lib/python3.11/dist-packages (0.0.7)\n",
            "Requirement already satisfied: pandas>=1.0.0 in /usr/local/lib/python3.11/dist-packages (from ucimlrepo) (2.2.2)\n",
            "Requirement already satisfied: certifi>=2020.12.5 in /usr/local/lib/python3.11/dist-packages (from ucimlrepo) (2025.4.26)\n",
            "Requirement already satisfied: numpy>=1.23.2 in /usr/local/lib/python3.11/dist-packages (from pandas>=1.0.0->ucimlrepo) (2.0.2)\n",
            "Requirement already satisfied: python-dateutil>=2.8.2 in /usr/local/lib/python3.11/dist-packages (from pandas>=1.0.0->ucimlrepo) (2.9.0.post0)\n",
            "Requirement already satisfied: pytz>=2020.1 in /usr/local/lib/python3.11/dist-packages (from pandas>=1.0.0->ucimlrepo) (2025.2)\n",
            "Requirement already satisfied: tzdata>=2022.7 in /usr/local/lib/python3.11/dist-packages (from pandas>=1.0.0->ucimlrepo) (2025.2)\n",
            "Requirement already satisfied: six>=1.5 in /usr/local/lib/python3.11/dist-packages (from python-dateutil>=2.8.2->pandas>=1.0.0->ucimlrepo) (1.17.0)\n"
          ]
        }
      ]
    },
    {
      "cell_type": "markdown",
      "source": [
        "\n",
        "## Data Loading and Inspection\n",
        "\n",
        "- We fetch the dataset using `ucimlrepo` and convert it into a `pandas` DataFrame.\n",
        "- The target variable is merged with the features.\n",
        "- Data is saved to a `.csv` file for backup and reloaded.\n",
        "- Basic structure of the dataset is explored using `.info()`, `.describe()`, and `.head()`.\n",
        "\n",
        "---\n",
        "\n",
        "## Data Visualization\n",
        "\n",
        "- A **countplot** is used to show the distribution of diagnoses (benign vs malignant).\n",
        "- This helps understand class balance before training."
      ],
      "metadata": {
        "id": "OmIk8legdQgu"
      }
    },
    {
      "cell_type": "code",
      "execution_count": 5,
      "metadata": {
        "colab": {
          "base_uri": "https://localhost:8080/"
        },
        "id": "LU74reWr-dgs",
        "outputId": "9b723823-34ab-451f-f753-d390120c352b"
      },
      "outputs": [
        {
          "output_type": "stream",
          "name": "stdout",
          "text": [
            "{'uci_id': 17, 'name': 'Breast Cancer Wisconsin (Diagnostic)', 'repository_url': 'https://archive.ics.uci.edu/dataset/17/breast+cancer+wisconsin+diagnostic', 'data_url': 'https://archive.ics.uci.edu/static/public/17/data.csv', 'abstract': 'Diagnostic Wisconsin Breast Cancer Database.', 'area': 'Health and Medicine', 'tasks': ['Classification'], 'characteristics': ['Multivariate'], 'num_instances': 569, 'num_features': 30, 'feature_types': ['Real'], 'demographics': [], 'target_col': ['Diagnosis'], 'index_col': ['ID'], 'has_missing_values': 'no', 'missing_values_symbol': None, 'year_of_dataset_creation': 1993, 'last_updated': 'Fri Nov 03 2023', 'dataset_doi': '10.24432/C5DW2B', 'creators': ['William Wolberg', 'Olvi Mangasarian', 'Nick Street', 'W. Street'], 'intro_paper': {'ID': 230, 'type': 'NATIVE', 'title': 'Nuclear feature extraction for breast tumor diagnosis', 'authors': 'W. Street, W. Wolberg, O. Mangasarian', 'venue': 'Electronic imaging', 'year': 1993, 'journal': None, 'DOI': '10.1117/12.148698', 'URL': 'https://www.semanticscholar.org/paper/53f0fbb425bc14468eb3bf96b2e1d41ba8087f36', 'sha': None, 'corpus': None, 'arxiv': None, 'mag': None, 'acl': None, 'pmid': None, 'pmcid': None}, 'additional_info': {'summary': 'Features are computed from a digitized image of a fine needle aspirate (FNA) of a breast mass.  They describe characteristics of the cell nuclei present in the image. A few of the images can be found at http://www.cs.wisc.edu/~street/images/\\r\\n\\r\\nSeparating plane described above was obtained using Multisurface Method-Tree (MSM-T) [K. P. Bennett, \"Decision Tree Construction Via Linear Programming.\" Proceedings of the 4th Midwest Artificial Intelligence and Cognitive Science Society, pp. 97-101, 1992], a classification method which uses linear programming to construct a decision tree.  Relevant features were selected using an exhaustive search in the space of 1-4 features and 1-3 separating planes.\\r\\n\\r\\nThe actual linear program used to obtain the separating plane in the 3-dimensional space is that described in: [K. P. Bennett and O. L. Mangasarian: \"Robust Linear Programming Discrimination of Two Linearly Inseparable Sets\", Optimization Methods and Software 1, 1992, 23-34].\\r\\n\\r\\nThis database is also available through the UW CS ftp server:\\r\\nftp ftp.cs.wisc.edu\\r\\ncd math-prog/cpo-dataset/machine-learn/WDBC/', 'purpose': None, 'funded_by': None, 'instances_represent': None, 'recommended_data_splits': None, 'sensitive_data': None, 'preprocessing_description': None, 'variable_info': '1) ID number\\r\\n2) Diagnosis (M = malignant, B = benign)\\r\\n3-32)\\r\\n\\r\\nTen real-valued features are computed for each cell nucleus:\\r\\n\\r\\n\\ta) radius (mean of distances from center to points on the perimeter)\\r\\n\\tb) texture (standard deviation of gray-scale values)\\r\\n\\tc) perimeter\\r\\n\\td) area\\r\\n\\te) smoothness (local variation in radius lengths)\\r\\n\\tf) compactness (perimeter^2 / area - 1.0)\\r\\n\\tg) concavity (severity of concave portions of the contour)\\r\\n\\th) concave points (number of concave portions of the contour)\\r\\n\\ti) symmetry \\r\\n\\tj) fractal dimension (\"coastline approximation\" - 1)', 'citation': None}}\n",
            "                  name     role         type demographic description units  \\\n",
            "0                   ID       ID  Categorical        None        None  None   \n",
            "1            Diagnosis   Target  Categorical        None        None  None   \n",
            "2              radius1  Feature   Continuous        None        None  None   \n",
            "3             texture1  Feature   Continuous        None        None  None   \n",
            "4           perimeter1  Feature   Continuous        None        None  None   \n",
            "5                area1  Feature   Continuous        None        None  None   \n",
            "6          smoothness1  Feature   Continuous        None        None  None   \n",
            "7         compactness1  Feature   Continuous        None        None  None   \n",
            "8           concavity1  Feature   Continuous        None        None  None   \n",
            "9      concave_points1  Feature   Continuous        None        None  None   \n",
            "10           symmetry1  Feature   Continuous        None        None  None   \n",
            "11  fractal_dimension1  Feature   Continuous        None        None  None   \n",
            "12             radius2  Feature   Continuous        None        None  None   \n",
            "13            texture2  Feature   Continuous        None        None  None   \n",
            "14          perimeter2  Feature   Continuous        None        None  None   \n",
            "15               area2  Feature   Continuous        None        None  None   \n",
            "16         smoothness2  Feature   Continuous        None        None  None   \n",
            "17        compactness2  Feature   Continuous        None        None  None   \n",
            "18          concavity2  Feature   Continuous        None        None  None   \n",
            "19     concave_points2  Feature   Continuous        None        None  None   \n",
            "20           symmetry2  Feature   Continuous        None        None  None   \n",
            "21  fractal_dimension2  Feature   Continuous        None        None  None   \n",
            "22             radius3  Feature   Continuous        None        None  None   \n",
            "23            texture3  Feature   Continuous        None        None  None   \n",
            "24          perimeter3  Feature   Continuous        None        None  None   \n",
            "25               area3  Feature   Continuous        None        None  None   \n",
            "26         smoothness3  Feature   Continuous        None        None  None   \n",
            "27        compactness3  Feature   Continuous        None        None  None   \n",
            "28          concavity3  Feature   Continuous        None        None  None   \n",
            "29     concave_points3  Feature   Continuous        None        None  None   \n",
            "30           symmetry3  Feature   Continuous        None        None  None   \n",
            "31  fractal_dimension3  Feature   Continuous        None        None  None   \n",
            "\n",
            "   missing_values  \n",
            "0              no  \n",
            "1              no  \n",
            "2              no  \n",
            "3              no  \n",
            "4              no  \n",
            "5              no  \n",
            "6              no  \n",
            "7              no  \n",
            "8              no  \n",
            "9              no  \n",
            "10             no  \n",
            "11             no  \n",
            "12             no  \n",
            "13             no  \n",
            "14             no  \n",
            "15             no  \n",
            "16             no  \n",
            "17             no  \n",
            "18             no  \n",
            "19             no  \n",
            "20             no  \n",
            "21             no  \n",
            "22             no  \n",
            "23             no  \n",
            "24             no  \n",
            "25             no  \n",
            "26             no  \n",
            "27             no  \n",
            "28             no  \n",
            "29             no  \n",
            "30             no  \n",
            "31             no  \n"
          ]
        }
      ],
      "source": [
        "from ucimlrepo import fetch_ucirepo\n",
        "# fetch dataset\n",
        "breast_cancer_wisconsin_diagnostic = fetch_ucirepo(id=17)\n",
        "# data (as pandas dataframes)\n",
        "X = breast_cancer_wisconsin_diagnostic.data.features\n",
        "y = breast_cancer_wisconsin_diagnostic.data.targets\n",
        "# metadata\n",
        "print(breast_cancer_wisconsin_diagnostic.metadata)\n",
        "# variable information\n",
        "print(breast_cancer_wisconsin_diagnostic.variables)"
      ]
    },
    {
      "cell_type": "code",
      "execution_count": 6,
      "metadata": {
        "colab": {
          "base_uri": "https://localhost:8080/",
          "height": 1000
        },
        "id": "gzMiUm22-dgv",
        "outputId": "8578b3bc-33f6-4ea4-cbb2-7d4a002ec15a"
      },
      "outputs": [
        {
          "output_type": "stream",
          "name": "stdout",
          "text": [
            "Dataset saved to breast_cancer_data.csv\n",
            "   radius1  texture1  perimeter1   area1  smoothness1  compactness1  \\\n",
            "0    17.99     10.38      122.80  1001.0      0.11840       0.27760   \n",
            "1    20.57     17.77      132.90  1326.0      0.08474       0.07864   \n",
            "2    19.69     21.25      130.00  1203.0      0.10960       0.15990   \n",
            "3    11.42     20.38       77.58   386.1      0.14250       0.28390   \n",
            "4    20.29     14.34      135.10  1297.0      0.10030       0.13280   \n",
            "\n",
            "   concavity1  concave_points1  symmetry1  fractal_dimension1  ...  texture3  \\\n",
            "0      0.3001          0.14710     0.2419             0.07871  ...     17.33   \n",
            "1      0.0869          0.07017     0.1812             0.05667  ...     23.41   \n",
            "2      0.1974          0.12790     0.2069             0.05999  ...     25.53   \n",
            "3      0.2414          0.10520     0.2597             0.09744  ...     26.50   \n",
            "4      0.1980          0.10430     0.1809             0.05883  ...     16.67   \n",
            "\n",
            "   perimeter3   area3  smoothness3  compactness3  concavity3  concave_points3  \\\n",
            "0      184.60  2019.0       0.1622        0.6656      0.7119           0.2654   \n",
            "1      158.80  1956.0       0.1238        0.1866      0.2416           0.1860   \n",
            "2      152.50  1709.0       0.1444        0.4245      0.4504           0.2430   \n",
            "3       98.87   567.7       0.2098        0.8663      0.6869           0.2575   \n",
            "4      152.20  1575.0       0.1374        0.2050      0.4000           0.1625   \n",
            "\n",
            "   symmetry3  fractal_dimension3  diagnosis  \n",
            "0     0.4601             0.11890          M  \n",
            "1     0.2750             0.08902          M  \n",
            "2     0.3613             0.08758          M  \n",
            "3     0.6638             0.17300          M  \n",
            "4     0.2364             0.07678          M  \n",
            "\n",
            "[5 rows x 31 columns]\n",
            "<class 'pandas.core.frame.DataFrame'>\n",
            "RangeIndex: 569 entries, 0 to 568\n",
            "Data columns (total 31 columns):\n",
            " #   Column              Non-Null Count  Dtype  \n",
            "---  ------              --------------  -----  \n",
            " 0   radius1             569 non-null    float64\n",
            " 1   texture1            569 non-null    float64\n",
            " 2   perimeter1          569 non-null    float64\n",
            " 3   area1               569 non-null    float64\n",
            " 4   smoothness1         569 non-null    float64\n",
            " 5   compactness1        569 non-null    float64\n",
            " 6   concavity1          569 non-null    float64\n",
            " 7   concave_points1     569 non-null    float64\n",
            " 8   symmetry1           569 non-null    float64\n",
            " 9   fractal_dimension1  569 non-null    float64\n",
            " 10  radius2             569 non-null    float64\n",
            " 11  texture2            569 non-null    float64\n",
            " 12  perimeter2          569 non-null    float64\n",
            " 13  area2               569 non-null    float64\n",
            " 14  smoothness2         569 non-null    float64\n",
            " 15  compactness2        569 non-null    float64\n",
            " 16  concavity2          569 non-null    float64\n",
            " 17  concave_points2     569 non-null    float64\n",
            " 18  symmetry2           569 non-null    float64\n",
            " 19  fractal_dimension2  569 non-null    float64\n",
            " 20  radius3             569 non-null    float64\n",
            " 21  texture3            569 non-null    float64\n",
            " 22  perimeter3          569 non-null    float64\n",
            " 23  area3               569 non-null    float64\n",
            " 24  smoothness3         569 non-null    float64\n",
            " 25  compactness3        569 non-null    float64\n",
            " 26  concavity3          569 non-null    float64\n",
            " 27  concave_points3     569 non-null    float64\n",
            " 28  symmetry3           569 non-null    float64\n",
            " 29  fractal_dimension3  569 non-null    float64\n",
            " 30  diagnosis           569 non-null    object \n",
            "dtypes: float64(30), object(1)\n",
            "memory usage: 137.9+ KB\n",
            "None\n",
            "          radius1    texture1  perimeter1        area1  smoothness1  \\\n",
            "count  569.000000  569.000000  569.000000   569.000000   569.000000   \n",
            "mean    14.127292   19.289649   91.969033   654.889104     0.096360   \n",
            "std      3.524049    4.301036   24.298981   351.914129     0.014064   \n",
            "min      6.981000    9.710000   43.790000   143.500000     0.052630   \n",
            "25%     11.700000   16.170000   75.170000   420.300000     0.086370   \n",
            "50%     13.370000   18.840000   86.240000   551.100000     0.095870   \n",
            "75%     15.780000   21.800000  104.100000   782.700000     0.105300   \n",
            "max     28.110000   39.280000  188.500000  2501.000000     0.163400   \n",
            "\n",
            "       compactness1  concavity1  concave_points1   symmetry1  \\\n",
            "count    569.000000  569.000000       569.000000  569.000000   \n",
            "mean       0.104341    0.088799         0.048919    0.181162   \n",
            "std        0.052813    0.079720         0.038803    0.027414   \n",
            "min        0.019380    0.000000         0.000000    0.106000   \n",
            "25%        0.064920    0.029560         0.020310    0.161900   \n",
            "50%        0.092630    0.061540         0.033500    0.179200   \n",
            "75%        0.130400    0.130700         0.074000    0.195700   \n",
            "max        0.345400    0.426800         0.201200    0.304000   \n",
            "\n",
            "       fractal_dimension1  ...     radius3    texture3  perimeter3  \\\n",
            "count          569.000000  ...  569.000000  569.000000  569.000000   \n",
            "mean             0.062798  ...   16.269190   25.677223  107.261213   \n",
            "std              0.007060  ...    4.833242    6.146258   33.602542   \n",
            "min              0.049960  ...    7.930000   12.020000   50.410000   \n",
            "25%              0.057700  ...   13.010000   21.080000   84.110000   \n",
            "50%              0.061540  ...   14.970000   25.410000   97.660000   \n",
            "75%              0.066120  ...   18.790000   29.720000  125.400000   \n",
            "max              0.097440  ...   36.040000   49.540000  251.200000   \n",
            "\n",
            "             area3  smoothness3  compactness3  concavity3  concave_points3  \\\n",
            "count   569.000000   569.000000    569.000000  569.000000       569.000000   \n",
            "mean    880.583128     0.132369      0.254265    0.272188         0.114606   \n",
            "std     569.356993     0.022832      0.157336    0.208624         0.065732   \n",
            "min     185.200000     0.071170      0.027290    0.000000         0.000000   \n",
            "25%     515.300000     0.116600      0.147200    0.114500         0.064930   \n",
            "50%     686.500000     0.131300      0.211900    0.226700         0.099930   \n",
            "75%    1084.000000     0.146000      0.339100    0.382900         0.161400   \n",
            "max    4254.000000     0.222600      1.058000    1.252000         0.291000   \n",
            "\n",
            "        symmetry3  fractal_dimension3  \n",
            "count  569.000000          569.000000  \n",
            "mean     0.290076            0.083946  \n",
            "std      0.061867            0.018061  \n",
            "min      0.156500            0.055040  \n",
            "25%      0.250400            0.071460  \n",
            "50%      0.282200            0.080040  \n",
            "75%      0.317900            0.092080  \n",
            "max      0.663800            0.207500  \n",
            "\n",
            "[8 rows x 30 columns]\n"
          ]
        },
        {
          "output_type": "display_data",
          "data": {
            "text/plain": [
              "<Figure size 640x480 with 1 Axes>"
            ],
            "image/png": "[encoded data removed]"
          },
          "metadata": {}
        }
      ],
      "source": [
        "# Convert feature and target data to a single DataFrame\n",
        "data = X.copy()  # Copy feature data\n",
        "data['diagnosis'] = y  # Add target data as a new column\n",
        "\n",
        "# Save to CSV\n",
        "data.to_csv(\"breast_cancer_data.csv\", index=False)\n",
        "\n",
        "print(\"Dataset saved to breast_cancer_data.csv\")\n",
        "\n",
        "# Load the CSV file into a pandas DataFrame\n",
        "data = pd.read_csv(\"breast_cancer_data.csv\")\n",
        "\n",
        "# Check the first few rows\n",
        "print(data.head())\n",
        "\n",
        "# Basic info about data types, null values, and data shape\n",
        "print(data.info())\n",
        "print(data.describe())\n",
        "\n",
        "# Visualize the class distribution\n",
        "sns.countplot(x='diagnosis', data=data)\n",
        "plt.title('Distribution of Breast Cancer Diagnosis')\n",
        "plt.show()\n"
      ]
    },
    {
      "cell_type": "markdown",
      "source": [
        "##  Data Preprocessing\n",
        "\n",
        "- Drop missing values (if any).\n",
        "- Encode the target variable using `LabelEncoder` (`M` → 0, `B` → 1).\n",
        "- Standardize the feature set using `StandardScaler`.\n",
        "- Split the data into training and test sets (80/20 split).\n"
      ],
      "metadata": {
        "id": "pH2_qI22akhr"
      }
    },
    {
      "cell_type": "code",
      "execution_count": 7,
      "metadata": {
        "id": "hLxG1dJJ-dgw"
      },
      "outputs": [],
      "source": [
        "# Handle missing values\n",
        "data = data.dropna()\n",
        "\n",
        "# Encode target variable\n",
        "label_encoder = LabelEncoder()\n",
        "data['diagnosis'] = label_encoder.fit_transform(data['diagnosis'])\n",
        "\n",
        "# Separate features and target\n",
        "X = data.drop(['diagnosis'], axis=1)  # Features\n",
        "y = data['diagnosis']                 # Target variable\n",
        "\n",
        "# Scale features\n",
        "scaler = StandardScaler()\n",
        "X_scaled = scaler.fit_transform(X)\n"
      ]
    },
    {
      "cell_type": "code",
      "execution_count": 8,
      "metadata": {
        "id": "h3RAPs_b-dgw"
      },
      "outputs": [],
      "source": [
        "# Split data into training and test sets (80-20 split)\n",
        "X_train, X_test, y_train, y_test = train_test_split(X_scaled, y, test_size=0.2, random_state=42)\n"
      ]
    },
    {
      "cell_type": "markdown",
      "source": [
        "## Model Training\n",
        "\n",
        "We train two classifiers:\n",
        "\n",
        "### 1. Logistic Regression\n",
        "- Simple and interpretable baseline model.\n",
        "- Accuracy is computed on the test set.\n",
        "\n",
        "### 2. Random Forest Classifier\n",
        "- More powerful ensemble method.\n",
        "- Accuracy is evaluated on test predictions.\n"
      ],
      "metadata": {
        "id": "4187UkVlrL1u"
      }
    },
    {
      "cell_type": "code",
      "execution_count": 9,
      "metadata": {
        "colab": {
          "base_uri": "https://localhost:8080/"
        },
        "id": "-jjXX9HZ-dgx",
        "outputId": "527a88c0-be8f-44ac-a0ae-7cf71b25263c"
      },
      "outputs": [
        {
          "output_type": "stream",
          "name": "stdout",
          "text": [
            "Logistic Regression Accuracy: 0.9736842105263158\n"
          ]
        }
      ],
      "source": [
        "# Initialize and train Logistic Regression model\n",
        "model_lr = LogisticRegression()\n",
        "model_lr.fit(X_train, y_train)\n",
        "\n",
        "# Predict on test set\n",
        "y_pred_lr = model_lr.predict(X_test)\n",
        "\n",
        "# Evaluate accuracy\n",
        "accuracy_lr = accuracy_score(y_test, y_pred_lr)\n",
        "print(f\"Logistic Regression Accuracy: {accuracy_lr}\")\n"
      ]
    },
    {
      "cell_type": "code",
      "execution_count": 10,
      "metadata": {
        "colab": {
          "base_uri": "https://localhost:8080/"
        },
        "id": "PRdQM9L3-dgx",
        "outputId": "48227bb9-2220-4280-f47d-2d18d2b572ef"
      },
      "outputs": [
        {
          "output_type": "stream",
          "name": "stdout",
          "text": [
            "Random Forest Accuracy: 0.9649122807017544\n"
          ]
        }
      ],
      "source": [
        "# Initialize and train Random Forest model\n",
        "model_rf = RandomForestClassifier(n_estimators=100, random_state=42)\n",
        "model_rf.fit(X_train, y_train)\n",
        "\n",
        "# Predict on test set\n",
        "y_pred_rf = model_rf.predict(X_test)\n",
        "\n",
        "# Evaluate accuracy\n",
        "accuracy_rf = accuracy_score(y_test, y_pred_rf)\n",
        "print(f\"Random Forest Accuracy: {accuracy_rf}\")\n"
      ]
    },
    {
      "cell_type": "markdown",
      "source": [
        "## Model Evaluation\n",
        "\n",
        "- A **confusion matrix** is plotted for the Random Forest model.\n",
        "- A detailed **classification report** (precision, recall, F1-score) is printed.\n"
      ],
      "metadata": {
        "id": "L84VOwnwrGrI"
      }
    },
    {
      "cell_type": "code",
      "execution_count": 11,
      "metadata": {
        "colab": {
          "base_uri": "https://localhost:8080/",
          "height": 658
        },
        "id": "UjmAKFty-dgy",
        "outputId": "4644ca8e-ffde-46ca-8873-b2c7612bb8e8"
      },
      "outputs": [
        {
          "output_type": "display_data",
          "data": {
            "text/plain": [
              "<Figure size 640x480 with 2 Axes>"
            ],
            "image/png": "[encoded data removed]"
          },
          "metadata": {}
        },
        {
          "output_type": "stream",
          "name": "stdout",
          "text": [
            "Classification Report for Random Forest:\n",
            "              precision    recall  f1-score   support\n",
            "\n",
            "           0       0.96      0.99      0.97        71\n",
            "           1       0.98      0.93      0.95        43\n",
            "\n",
            "    accuracy                           0.96       114\n",
            "   macro avg       0.97      0.96      0.96       114\n",
            "weighted avg       0.97      0.96      0.96       114\n",
            "\n"
          ]
        }
      ],
      "source": [
        "# Confusion matrix for Random Forest\n",
        "cm_rf = confusion_matrix(y_test, y_pred_rf)\n",
        "sns.heatmap(cm_rf, annot=True, fmt='d', cmap='Blues')\n",
        "plt.title('Random Forest Confusion Matrix')\n",
        "plt.xlabel('Predicted')\n",
        "plt.ylabel('Actual')\n",
        "plt.show()\n",
        "\n",
        "# Classification report for Random Forest\n",
        "print(\"Classification Report for Random Forest:\")\n",
        "print(classification_report(y_test, y_pred_rf))\n"
      ]
    },
    {
      "cell_type": "markdown",
      "source": [
        "| Metric           | Value  |\n",
        "| ---------------- | ------ |\n",
        "| Accuracy         | 96%    |\n",
        "| Malignant Recall | 99%    |\n",
        "| Benign Recall    | 93%    |\n",
        "| Precision (both) | 96–98% |\n",
        "| F1-Score (both)  | 95–97% |\n",
        "\n",
        "\n",
        "Risk Trade-Off:\n",
        "\n",
        "The model prioritizes catching cancer (high recall for malignant) over reducing false alarms for benign cases.\n",
        "\n",
        "This is typically preferred in real-world healthcare settings, where missing a malignant tumor is riskier than over-diagnosing a benign one.\n",
        "\n"
      ],
      "metadata": {
        "id": "dqfTBaqk3uAa"
      }
    },
    {
      "cell_type": "markdown",
      "source": [
        "##  Hyperparameter Tuning\n",
        "\n",
        "We tune the Random Forest model using `GridSearchCV`:\n",
        "- `n_estimators`: [50, 100, 150]\n",
        "- `max_depth`: [None, 10, 20]\n",
        "\n",
        "The best model is selected and evaluated for improved accuracy."
      ],
      "metadata": {
        "id": "y8fedsb7rbH-"
      }
    },
    {
      "cell_type": "code",
      "execution_count": null,
      "metadata": {
        "colab": {
          "base_uri": "https://localhost:8080/"
        },
        "id": "hTz1enRq-dgz",
        "outputId": "13a9681b-4941-4219-86f4-7c724fcfc38c"
      },
      "outputs": [
        {
          "output_type": "stream",
          "name": "stdout",
          "text": [
            "Best Random Forest Model Accuracy: 0.9649122807017544\n"
          ]
        }
      ],
      "source": [
        "# Hyperparameter tuning for Random Forest\n",
        "param_grid = {\n",
        "    'n_estimators': [50, 100, 150],\n",
        "    'max_depth': [None, 10, 20]\n",
        "}\n",
        "\n",
        "grid_search = GridSearchCV(estimator=model_rf, param_grid=param_grid, cv=5, scoring='accuracy')\n",
        "grid_search.fit(X_train, y_train)\n",
        "\n",
        "# Get the best model and evaluate\n",
        "best_model_rf = grid_search.best_estimator_\n",
        "y_pred_best_rf = best_model_rf.predict(X_test)\n",
        "print(\"Best Random Forest Model Accuracy:\", accuracy_score(y_test, y_pred_best_rf))\n"
      ]
    },
    {
      "cell_type": "markdown",
      "source": [
        "##  Feature Importance\n",
        "\n",
        "- We plot the **top contributing features** from the best-performing Random Forest model to understand what features are most predictive of malignancy."
      ],
      "metadata": {
        "id": "JkNh_1gRrntk"
      }
    },
    {
      "cell_type": "code",
      "execution_count": null,
      "metadata": {
        "colab": {
          "base_uri": "https://localhost:8080/",
          "height": 513
        },
        "id": "P47cG7b5-dg0",
        "outputId": "a44fc6d9-d729-4c76-c0e5-bcd54b0dfed9"
      },
      "outputs": [
        {
          "output_type": "display_data",
          "data": {
            "text/plain": [
              "<Figure size 1000x800 with 1 Axes>"
            ],
            "image/png": "[encoded data removed]"
          },
          "metadata": {}
        }
      ],
      "source": [
        "# Plot feature importance for the best Random Forest model\n",
        "importances = best_model_rf.feature_importances_\n",
        "feature_names = X.columns\n",
        "plt.figure(figsize=(10, 8))\n",
        "plt.barh(feature_names, importances)\n",
        "plt.title(\"Feature Importance\")\n",
        "plt.xlabel(\"Importance\")\n",
        "plt.ylabel(\"Feature\")\n",
        "plt.show()\n"
      ]
    },
    {
      "cell_type": "markdown",
      "source": [
        "**These** features have the highest importance scores, meaning they were most helpful in making accurate predictions:\n",
        "\n",
        "**-smoothness3**\n",
        "\n",
        "**-concave_points3**\n",
        "\n",
        "**-perimeter3**\n",
        "\n",
        "**-concave_points1**\n",
        "\n",
        "**-concavity1**\n",
        "\n",
        "**-area3**\n",
        "\n",
        "---\n",
        "\n",
        "Features like:\n",
        "\n",
        "**-fractal_dimension1/2/3**\n",
        "\n",
        "**-symmetry1/2**\n",
        "\n",
        "**-compactness2**\n",
        "\n",
        "**-perimeter2**\n",
        "\n",
        "had very low importance scores."
      ],
      "metadata": {
        "id": "rcx2s6zD1jS3"
      }
    },
    {
      "cell_type": "markdown",
      "source": [
        "## Practical Interpretation\n",
        "Features representing shape irregularities and size extremes (concave points, perimeter, area, and smoothness) are highly predictive of malignancy.\n",
        "\n",
        "This aligns with medical knowledge: malignant tumors often have irregular, jagged edges and larger sizes, which explain the importance of those features."
      ],
      "metadata": {
        "id": "ex8Y9ebY2wRx"
      }
    },
    {
      "cell_type": "markdown",
      "source": [
        "## Model Saving\n",
        "\n",
        "- The final Random Forest model is saved locally using `joblib`.\n",
        "- Additionally, it is saved to **Google Drive** for persistent cloud storage."
      ],
      "metadata": {
        "id": "eCb86XOl1EIH"
      }
    },
    {
      "cell_type": "code",
      "execution_count": null,
      "metadata": {
        "colab": {
          "base_uri": "https://localhost:8080/"
        },
        "id": "-OJdHdqJ-dg0",
        "outputId": "c2ac73a8-19b4-4f57-c945-cc07062ccb88"
      },
      "outputs": [
        {
          "output_type": "execute_result",
          "data": {
            "text/plain": [
              "['breast_cancer_model.pkl']"
            ]
          },
          "metadata": {},
          "execution_count": 13
        }
      ],
      "source": [
        "joblib.dump(best_model_rf, \"breast_cancer_model.pkl\")"
      ]
    },
    {
      "cell_type": "code",
      "execution_count": null,
      "metadata": {
        "colab": {
          "base_uri": "https://localhost:8080/"
        },
        "id": "7CYieQkV-dg1",
        "outputId": "2677b747-7b84-4aff-fdc2-466c81437a10"
      },
      "outputs": [
        {
          "output_type": "stream",
          "name": "stdout",
          "text": [
            "Mounted at /content/drive\n"
          ]
        },
        {
          "output_type": "execute_result",
          "data": {
            "text/plain": [
              "['/content/drive/MyDrive/breast_cancer_model.pkl']"
            ]
          },
          "metadata": {},
          "execution_count": 14
        }
      ],
      "source": [
        "from google.colab import drive\n",
        "drive.mount('/content/drive')\n",
        "joblib.dump(best_model_rf, \"/content/drive/MyDrive/breast_cancer_model.pkl\")"
      ]
    },
    {
      "cell_type": "code",
      "source": [
        "data.to_csv('dataset.csv', index=False)"
      ],
      "metadata": {
        "id": "XYz0YSDO_knP"
      },
      "execution_count": null,
      "outputs": []
    },
    {
      "cell_type": "markdown",
      "source": [
        "##  Manual Record Retrieval\n",
        "\n",
        "- For verification, we retrieve a **benign sample record** to inspect what the data looks like for a non-cancerous case."
      ],
      "metadata": {
        "id": "uB7i8Y7n1P6X"
      }
    },
    {
      "cell_type": "code",
      "source": [
        "pd.set_option('display.max_columns', None)\n",
        "\n",
        "# Retrieve and display a benign record\n",
        "benign_record = data.loc[data['diagnosis'] == 0].head(1)\n",
        "print(benign_record)\n",
        "\n",
        "# Reset display option if needed\n",
        "pd.reset_option('display.max_columns')"
      ],
      "metadata": {
        "colab": {
          "base_uri": "https://localhost:8080/"
        },
        "id": "3LX57emV4jcl",
        "outputId": "246af002-86de-4ba9-e7cb-63c8feb3c4f7"
      },
      "execution_count": null,
      "outputs": [
        {
          "output_type": "stream",
          "name": "stdout",
          "text": [
            "    radius1  texture1  perimeter1  area1  smoothness1  compactness1  \\\n",
            "19    13.54     14.36       87.46  566.3      0.09779       0.08129   \n",
            "\n",
            "    concavity1  concave_points1  symmetry1  fractal_dimension1  radius2  \\\n",
            "19     0.06664          0.04781     0.1885             0.05766   0.2699   \n",
            "\n",
            "    texture2  perimeter2  area2  smoothness2  compactness2  concavity2  \\\n",
            "19    0.7886       2.058  23.56     0.008462        0.0146     0.02387   \n",
            "\n",
            "    concave_points2  symmetry2  fractal_dimension2  radius3  texture3  \\\n",
            "19          0.01315     0.0198              0.0023    15.11     19.26   \n",
            "\n",
            "    perimeter3  area3  smoothness3  compactness3  concavity3  concave_points3  \\\n",
            "19        99.7  711.2        0.144        0.1773       0.239           0.1288   \n",
            "\n",
            "    symmetry3  fractal_dimension3  diagnosis  \n",
            "19     0.2977             0.07259          0  \n"
          ]
        }
      ]
    },
    {
      "cell_type": "markdown",
      "source": [
        "##  Conclusion\n",
        "\n",
        "- The model performs well on classifying breast cancer with high accuracy.\n",
        "- Feature importance highlights the most influential tumor characteristics.\n",
        "- With further improvements (e.g., ensemble methods, deep learning), this model can be extended into clinical decision support systems."
      ],
      "metadata": {
        "id": "yR6EI2Ph1YtZ"
      }
    },
    {
      "cell_type": "markdown",
      "source": [
        "##  References\n",
        "\n",
        "- UCI Machine Learning Repository: [https://archive.ics.uci.edu/ml/datasets/Breast+Cancer+Wisconsin+(Diagnostic)](https://archive.ics.uci.edu/ml/datasets/Breast+Cancer+Wisconsin+(Diagnostic))\n",
        "- scikit-learn documentation: [https://scikit-learn.org/](https://scikit-learn.org/)\n",
        "- ucimlrepo: [https://pypi.org/project/ucimlrepo/](https://pypi.org/project/ucimlrepo/)\n"
      ],
      "metadata": {
        "id": "YSDqPaxo1d5B"
      }
    }
  ],
  "metadata": {
    "kernelspec": {
      "display_name": "base",
      "language": "python",
      "name": "python3"
    },
    "language_info": {
      "codemirror_mode": {
        "name": "ipython",
        "version": 3
      },
      "file_extension": ".py",
      "mimetype": "text/x-python",
      "name": "python",
      "nbconvert_exporter": "python",
      "pygments_lexer": "ipython3",
      "version": "3.11.5"
    },
    "colab": {
      "provenance": []
    }
  },
  "nbformat": 4,
  "nbformat_minor": 0
}